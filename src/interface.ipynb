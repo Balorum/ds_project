{
 "cells": [
  {
   "cell_type": "code",
   "id": "initial_id",
   "metadata": {
    "collapsed": true,
    "ExecuteTime": {
     "end_time": "2024-06-10T10:26:13.349587Z",
     "start_time": "2024-06-10T10:26:01.267922Z"
    }
   },
   "source": [
    "import tensorflow as tf\n",
    "import gradio as gr\n",
    "import requests\n",
    "from src.load_dataset.load_dataset import classes\n",
    "import numpy as np\n",
    "\n",
    "nm_model = tf.keras.models.load_model(\"../models/mn_model.keras\")\n",
    "\n",
    "resnet_model = tf.keras.models.load_model(\"../models/newmodel.h5\")\n",
    "\n",
    "cifar10_labels = classes\n",
    "\n",
    "\n",
    "\n",
    "\n",
    "def classify_image(inp, model_choice):\n",
    "    try:\n",
    "        print(\"Original image shape:\", inp.shape)\n",
    "\n",
    "        if model_choice == \"MobileNetBased Model\":\n",
    "            inp = tf.image.resize(inp, (32, 32))\n",
    "\n",
    "            print(\"Processed image for MobileNet model:\", inp)\n",
    "            model = nm_model\n",
    "            labels = cifar10_labels\n",
    "        elif model_choice == \"ResNetBased Model\":\n",
    "            inp = tf.image.resize(inp, (32, 32))\n",
    "            inp = tf.keras.applications.resnet.preprocess_input(inp)\n",
    "            print(\"Processed image for ResNet model:\", inp)\n",
    "            model = resnet_model\n",
    "            labels = cifar10_labels\n",
    "\n",
    "        print(\"Resized image shape:\", inp.shape)\n",
    "\n",
    "        inp = tf.expand_dims(inp, axis=0)\n",
    "        print(\"Input to the model:\", inp)\n",
    "\n",
    "        prediction = model.predict(inp).flatten()\n",
    "        print(\"Predictions:\", prediction)\n",
    "\n",
    "        if model_choice == \"MobileNetV2\":\n",
    "            top_indices = prediction.argsort()[-10:][::-1]\n",
    "            confidences = {labels[i]: float(prediction[i]) for i in top_indices}\n",
    "        else:\n",
    "            confidences = {labels[i]: float(prediction[i]) for i in range(len(labels))}\n",
    "\n",
    "        return confidences\n",
    "    except Exception as e:\n",
    "        return {\"error\": str(e)}\n",
    "\n",
    "\n",
    "interface = gr.Interface(\n",
    "    fn=classify_image,\n",
    "    inputs=[gr.Image(type=\"numpy\", image_mode=\"RGB\", label=\"Input Image\"), gr.Dropdown([\"ResNetBased Model\", \"MobileNetBased Model\"], label=\"Model Choice\")],\n",
    "    outputs=gr.Label(num_top_classes=3, label=\"Predictions\"),\n",
    ")\n",
    "\n",
    "interface.launch(debug=False, share=True)"
   ],
   "outputs": [
    {
     "ename": "TypeError",
     "evalue": "weight_decay is not a valid argument, kwargs should be empty  for `optimizer_experimental.Optimizer`.",
     "output_type": "error",
     "traceback": [
      "\u001B[1;31m---------------------------------------------------------------------------\u001B[0m",
      "\u001B[1;31mTypeError\u001B[0m                                 Traceback (most recent call last)",
      "Cell \u001B[1;32mIn[1], line 9\u001B[0m\n\u001B[0;32m      5\u001B[0m \u001B[38;5;28;01mimport\u001B[39;00m \u001B[38;5;21;01mnumpy\u001B[39;00m \u001B[38;5;28;01mas\u001B[39;00m \u001B[38;5;21;01mnp\u001B[39;00m\n\u001B[0;32m      7\u001B[0m nm_model \u001B[38;5;241m=\u001B[39m tf\u001B[38;5;241m.\u001B[39mkeras\u001B[38;5;241m.\u001B[39mmodels\u001B[38;5;241m.\u001B[39mload_model(\u001B[38;5;124m\"\u001B[39m\u001B[38;5;124m../models/mn_model.keras\u001B[39m\u001B[38;5;124m\"\u001B[39m)\n\u001B[1;32m----> 9\u001B[0m resnet_model \u001B[38;5;241m=\u001B[39m \u001B[43mtf\u001B[49m\u001B[38;5;241;43m.\u001B[39;49m\u001B[43mkeras\u001B[49m\u001B[38;5;241;43m.\u001B[39;49m\u001B[43mmodels\u001B[49m\u001B[38;5;241;43m.\u001B[39;49m\u001B[43mload_model\u001B[49m\u001B[43m(\u001B[49m\u001B[38;5;124;43m\"\u001B[39;49m\u001B[38;5;124;43m../models/resnet_best.h5\u001B[39;49m\u001B[38;5;124;43m\"\u001B[39;49m\u001B[43m)\u001B[49m\n\u001B[0;32m     11\u001B[0m cifar10_labels \u001B[38;5;241m=\u001B[39m classes\n\u001B[0;32m     16\u001B[0m \u001B[38;5;28;01mdef\u001B[39;00m \u001B[38;5;21mclassify_image\u001B[39m(inp, model_choice):\n",
      "File \u001B[1;32m~\\miniconda3\\envs\\pythonProject\\lib\\site-packages\\keras\\utils\\traceback_utils.py:70\u001B[0m, in \u001B[0;36mfilter_traceback.<locals>.error_handler\u001B[1;34m(*args, **kwargs)\u001B[0m\n\u001B[0;32m     67\u001B[0m     filtered_tb \u001B[38;5;241m=\u001B[39m _process_traceback_frames(e\u001B[38;5;241m.\u001B[39m__traceback__)\n\u001B[0;32m     68\u001B[0m     \u001B[38;5;66;03m# To get the full stack trace, call:\u001B[39;00m\n\u001B[0;32m     69\u001B[0m     \u001B[38;5;66;03m# `tf.debugging.disable_traceback_filtering()`\u001B[39;00m\n\u001B[1;32m---> 70\u001B[0m     \u001B[38;5;28;01mraise\u001B[39;00m e\u001B[38;5;241m.\u001B[39mwith_traceback(filtered_tb) \u001B[38;5;28;01mfrom\u001B[39;00m \u001B[38;5;28;01mNone\u001B[39;00m\n\u001B[0;32m     71\u001B[0m \u001B[38;5;28;01mfinally\u001B[39;00m:\n\u001B[0;32m     72\u001B[0m     \u001B[38;5;28;01mdel\u001B[39;00m filtered_tb\n",
      "File \u001B[1;32m~\\miniconda3\\envs\\pythonProject\\lib\\site-packages\\keras\\optimizers\\optimizer_experimental\\optimizer.py:115\u001B[0m, in \u001B[0;36m_BaseOptimizer._process_kwargs\u001B[1;34m(self, kwargs)\u001B[0m\n\u001B[0;32m    109\u001B[0m     logging\u001B[38;5;241m.\u001B[39mwarning(\n\u001B[0;32m    110\u001B[0m         \u001B[38;5;124m\"\u001B[39m\u001B[38;5;132;01m%s\u001B[39;00m\u001B[38;5;124m is deprecated in `optimizer_experimental.Optimizer`\u001B[39m\u001B[38;5;124m\"\u001B[39m\n\u001B[0;32m    111\u001B[0m         \u001B[38;5;124m\"\u001B[39m\u001B[38;5;124m, please check the docstring for valid arguments.\u001B[39m\u001B[38;5;124m\"\u001B[39m,\n\u001B[0;32m    112\u001B[0m         k,\n\u001B[0;32m    113\u001B[0m     )\n\u001B[0;32m    114\u001B[0m \u001B[38;5;28;01melse\u001B[39;00m:\n\u001B[1;32m--> 115\u001B[0m     \u001B[38;5;28;01mraise\u001B[39;00m \u001B[38;5;167;01mTypeError\u001B[39;00m(\n\u001B[0;32m    116\u001B[0m         \u001B[38;5;124mf\u001B[39m\u001B[38;5;124m\"\u001B[39m\u001B[38;5;132;01m{\u001B[39;00mk\u001B[38;5;132;01m}\u001B[39;00m\u001B[38;5;124m is not a valid argument, kwargs should be empty \u001B[39m\u001B[38;5;124m\"\u001B[39m\n\u001B[0;32m    117\u001B[0m         \u001B[38;5;124m\"\u001B[39m\u001B[38;5;124m for `optimizer_experimental.Optimizer`.\u001B[39m\u001B[38;5;124m\"\u001B[39m\n\u001B[0;32m    118\u001B[0m     )\n",
      "\u001B[1;31mTypeError\u001B[0m: weight_decay is not a valid argument, kwargs should be empty  for `optimizer_experimental.Optimizer`."
     ]
    }
   ],
   "execution_count": 1
  }
 ],
 "metadata": {
  "kernelspec": {
   "display_name": "Python 3",
   "language": "python",
   "name": "python3"
  },
  "language_info": {
   "codemirror_mode": {
    "name": "ipython",
    "version": 2
   },
   "file_extension": ".py",
   "mimetype": "text/x-python",
   "name": "python",
   "nbconvert_exporter": "python",
   "pygments_lexer": "ipython2",
   "version": "2.7.6"
  }
 },
 "nbformat": 4,
 "nbformat_minor": 5
}
